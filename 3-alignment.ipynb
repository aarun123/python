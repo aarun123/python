{
 "cells": [
  {
   "cell_type": "markdown",
   "metadata": {},
   "source": [
    "##  Global vs. Local Alignment Using Python\n",
    " Sequence alignment is a fundamental concept in bioinformatics for identifying regions of similarity between DNA, RNA, or protein sequences. There are two main types of sequence alignment: global alignment and local alignment.\n",
    "\n",
    "- Global alignment: Aligns sequences end-to-end, aiming to align as many characters as possible from start to finish.\n",
    "- Local alignment: Finds the best matching subsequences within the larger sequences, allowing for gaps at the ends.\n",
    "In this tutorial, we will use the Biopython library to perform both global and local sequence alignments.\n",
    "\n"
   ]
  },
  {
   "cell_type": "code",
   "execution_count": 1,
   "metadata": {},
   "outputs": [
    {
     "name": "stderr",
     "output_type": "stream",
     "text": [
      "/home/aarun/Documents/projects/bioinformatics/.venv/lib/python3.12/site-packages/Bio/pairwise2.py:278: BiopythonDeprecationWarning: Bio.pairwise2 has been deprecated, and we intend to remove it in a future release of Biopython. As an alternative, please consider using Bio.Align.PairwiseAligner as a replacement, and contact the Biopython developers if you still need the Bio.pairwise2 module.\n",
      "  warnings.warn(\n"
     ]
    }
   ],
   "source": [
    "from Bio import pairwise2\n",
    "from Bio.pairwise2 import format_alignment\n"
   ]
  },
  {
   "cell_type": "code",
   "execution_count": 2,
   "metadata": {},
   "outputs": [
    {
     "name": "stdout",
     "output_type": "stream",
     "text": [
      "Global Alignments:\n",
      "G-ATTA-CA-\n",
      "| | |  |  \n",
      "GCA-T-GC-U\n",
      "  Score=4\n",
      "\n",
      "G-ATTA-CA-\n",
      "| ||   |  \n",
      "GCAT--GC-U\n",
      "  Score=4\n",
      "\n",
      "G-ATTACA-\n",
      "| | |.|  \n",
      "GCA-TGC-U\n",
      "  Score=4\n",
      "\n",
      "G-ATTACA-\n",
      "| || .|  \n",
      "GCAT-GC-U\n",
      "  Score=4\n",
      "\n",
      "G-ATTACA-\n",
      "| ||. |  \n",
      "GCATG-C-U\n",
      "  Score=4\n",
      "\n",
      "G-ATTA-CA\n",
      "| | |  |.\n",
      "GCA-T-GCU\n",
      "  Score=4\n",
      "\n",
      "G-ATTA-CA\n",
      "| ||   |.\n",
      "GCAT--GCU\n",
      "  Score=4\n",
      "\n",
      "G-ATTACA\n",
      "| | |.|.\n",
      "GCA-TGCU\n",
      "  Score=4\n",
      "\n",
      "G-ATTACA\n",
      "| || .|.\n",
      "GCAT-GCU\n",
      "  Score=4\n",
      "\n",
      "G-ATTACA\n",
      "| ||. |.\n",
      "GCATG-CU\n",
      "  Score=4\n",
      "\n",
      "\n",
      "Local Alignments:\n",
      "1 G-ATTA-C\n",
      "  | | |  |\n",
      "1 GCA-T-GC\n",
      "  Score=4\n",
      "\n",
      "1 G-ATTA-C\n",
      "  | ||   |\n",
      "1 GCAT--GC\n",
      "  Score=4\n",
      "\n",
      "1 G-ATTAC\n",
      "  | | |.|\n",
      "1 GCA-TGC\n",
      "  Score=4\n",
      "\n",
      "1 G-ATTAC\n",
      "  | || .|\n",
      "1 GCAT-GC\n",
      "  Score=4\n",
      "\n",
      "1 G-ATTAC\n",
      "  | ||. |\n",
      "1 GCATG-C\n",
      "  Score=4\n",
      "\n"
     ]
    }
   ],
   "source": [
    "seq1 = \"GATTACA\"\n",
    "seq2 = \"GCATGCU\"\n",
    "\n",
    "# Global alignment aligns sequences from end to end.\n",
    "\n",
    "# Perform global alignment\n",
    "global_alignments = pairwise2.align.globalxx(seq1, seq2)\n",
    "\n",
    "# Display the alignments\n",
    "print(\"Global Alignments:\")\n",
    "for alignment in global_alignments:\n",
    "    print(format_alignment(*alignment))\n",
    "\n",
    "\n",
    "# Local alignment finds the best matching subsequences.\n",
    "# Perform local alignment\n",
    "local_alignments = pairwise2.align.localxx(seq1, seq2)\n",
    "\n",
    "# Display the alignments\n",
    "print(\"\\nLocal Alignments:\")\n",
    "for alignment in local_alignments:\n",
    "    print(format_alignment(*alignment))\n"
   ]
  },
  {
   "cell_type": "markdown",
   "metadata": {},
   "source": [
    "- Global Alignment Use Case: Comparing entire genomes or long sequences where end-to-end alignment is necessary.\n",
    "- Local Alignment Use Case: Identifying conserved regions or motifs within proteins or genes."
   ]
  },
  {
   "cell_type": "markdown",
   "metadata": {},
   "source": [
    "### Gene Finding\n",
    "- Objective: Identify gene locations within DNA sequences. This involves searching for open reading frames (ORFs) and other gene structures.\n",
    "\n",
    "- Example: Finding ORFs\n",
    "- Biopython provides tools to identify ORFs"
   ]
  },
  {
   "cell_type": "code",
   "execution_count": 4,
   "metadata": {},
   "outputs": [
    {
     "name": "stdout",
     "output_type": "stream",
     "text": [
      "ORF found: ATGGCCATTGTAATGGGCCGCTGA\n",
      "ORF found: ATGGGCCGCTGA\n"
     ]
    }
   ],
   "source": [
    "from Bio.Seq import Seq\n",
    " \n",
    "dna_seq = Seq(\"ATGGCCATTGTAATGGGCCGCTGAAAGGGTGCCCGATAG\")\n",
    "\n",
    "# A simple method to find ORFs is to look for start (ATG) and stop codons (TAA, TAG, TGA).\n",
    "\n",
    "def find_orfs(dna_seq):\n",
    "    start_codon = \"ATG\"\n",
    "    stop_codons = [\"TAA\", \"TAG\", \"TGA\"]\n",
    "    orfs = []\n",
    "    \n",
    "    for i in range(len(dna_seq)):\n",
    "        if dna_seq[i:i+3] == start_codon:\n",
    "            for j in range(i, len(dna_seq), 3):\n",
    "                codon = dna_seq[j:j+3]\n",
    "                if codon in stop_codons:\n",
    "                    orfs.append(dna_seq[i:j+3])\n",
    "                    break\n",
    "    return orfs\n",
    "\n",
    "orfs = find_orfs(dna_seq)\n",
    "for orf in orfs:\n",
    "    print(f\"ORF found: {orf}\")\n"
   ]
  },
  {
   "cell_type": "markdown",
   "metadata": {},
   "source": [
    "### Evolutionary Studies\n",
    "- Objective: Understand evolutionary relationships by comparing genetic sequences across different species."
   ]
  },
  {
   "cell_type": "code",
   "execution_count": 5,
   "metadata": {},
   "outputs": [
    {
     "data": {
      "image/png": "[encoded data removed]",
      "text/plain": [
       "<Figure size 640x480 with 1 Axes>"
      ]
     },
     "metadata": {},
     "output_type": "display_data"
    }
   ],
   "source": [
    "from Bio import Phylo\n",
    "from Bio.Phylo.TreeConstruction import DistanceTreeConstructor, DistanceCalculator\n",
    "from Bio.Align import MultipleSeqAlignment\n",
    "from Bio.Seq import Seq\n",
    "from Bio.SeqRecord import SeqRecord\n",
    "\n",
    "\n",
    "seq1 = SeqRecord(Seq(\"GATTACA\"), id=\"Human\")\n",
    "seq2 = SeqRecord(Seq(\"GCATGCU\"), id=\"Chimpanzee\")\n",
    "seq3 = SeqRecord(Seq(\"GATTGCA\"), id=\"Gorilla\")\n",
    "\n",
    "alignment = MultipleSeqAlignment([seq1, seq2, seq3])\n",
    "\n",
    "\n",
    "calculator = DistanceCalculator('identity')\n",
    "dm = calculator.get_distance(alignment)\n",
    "\n",
    "constructor = DistanceTreeConstructor()\n",
    "tree = constructor.nj(dm)\n",
    "\n",
    "# Draw the tree\n",
    "Phylo.draw(tree)\n",
    "\n"
   ]
  },
  {
   "cell_type": "code",
   "execution_count": null,
   "metadata": {},
   "outputs": [],
   "source": []
  }
 ],
 "metadata": {
  "kernelspec": {
   "display_name": ".venv",
   "language": "python",
   "name": "python3"
  },
  "language_info": {
   "codemirror_mode": {
    "name": "ipython",
    "version": 3
   },
   "file_extension": ".py",
   "mimetype": "text/x-python",
   "name": "python",
   "nbconvert_exporter": "python",
   "pygments_lexer": "ipython3",
   "version": "3.12.3"
  }
 },
 "nbformat": 4,
 "nbformat_minor": 2
}
