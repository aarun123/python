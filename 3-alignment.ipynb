{
 "cells": [
  {
   "cell_type": "markdown",
   "metadata": {},
   "source": [
    "##  Global vs. Local Alignment Using Python\n",
    " Sequence alignment is a fundamental concept in bioinformatics for identifying regions of similarity between DNA, RNA, or protein sequences. There are two main types of sequence alignment: global alignment and local alignment.\n",
    "\n",
    "- Global alignment: Aligns sequences end-to-end, aiming to align as many characters as possible from start to finish.\n",
    "- Local alignment: Finds the best matching subsequences within the larger sequences, allowing for gaps at the ends.\n",
    "In this tutorial, we will use the Biopython library to perform both global and local sequence alignments.\n",
    "\n"
   ]
  },
  {
   "cell_type": "code",
   "execution_count": 1,
   "metadata": {},
   "outputs": [
    {
     "name": "stderr",
     "output_type": "stream",
     "text": [
      "/home/aarun/Documents/projects/bioinformatics/.venv/lib/python3.12/site-packages/Bio/pairwise2.py:278: BiopythonDeprecationWarning: Bio.pairwise2 has been deprecated, and we intend to remove it in a future release of Biopython. As an alternative, please consider using Bio.Align.PairwiseAligner as a replacement, and contact the Biopython developers if you still need the Bio.pairwise2 module.\n",
      "  warnings.warn(\n"
     ]
    }
   ],
   "source": [
    "from Bio import pairwise2\n",
    "from Bio.pairwise2 import format_alignment\n"
   ]
  },
  {
   "cell_type": "code",
   "execution_count": 2,
   "metadata": {},
   "outputs": [
    {
     "name": "stdout",
     "output_type": "stream",
     "text": [
      "Global Alignments:\n",
      "G-ATTA-CA-\n",
      "| | |  |  \n",
      "GCA-T-GC-U\n",
      "  Score=4\n",
      "\n",
      "G-ATTA-CA-\n",
      "| ||   |  \n",
      "GCAT--GC-U\n",
      "  Score=4\n",
      "\n",
      "G-ATTACA-\n",
      "| | |.|  \n",
      "GCA-TGC-U\n",
      "  Score=4\n",
      "\n",
      "G-ATTACA-\n",
      "| || .|  \n",
      "GCAT-GC-U\n",
      "  Score=4\n",
      "\n",
      "G-ATTACA-\n",
      "| ||. |  \n",
      "GCATG-C-U\n",
      "  Score=4\n",
      "\n",
      "G-ATTA-CA\n",
      "| | |  |.\n",
      "GCA-T-GCU\n",
      "  Score=4\n",
      "\n",
      "G-ATTA-CA\n",
      "| ||   |.\n",
      "GCAT--GCU\n",
      "  Score=4\n",
      "\n",
      "G-ATTACA\n",
      "| | |.|.\n",
      "GCA-TGCU\n",
      "  Score=4\n",
      "\n",
      "G-ATTACA\n",
      "| || .|.\n",
      "GCAT-GCU\n",
      "  Score=4\n",
      "\n",
      "G-ATTACA\n",
      "| ||. |.\n",
      "GCATG-CU\n",
      "  Score=4\n",
      "\n",
      "\n",
      "Local Alignments:\n",
      "1 G-ATTA-C\n",
      "  | | |  |\n",
      "1 GCA-T-GC\n",
      "  Score=4\n",
      "\n",
      "1 G-ATTA-C\n",
      "  | ||   |\n",
      "1 GCAT--GC\n",
      "  Score=4\n",
      "\n",
      "1 G-ATTAC\n",
      "  | | |.|\n",
      "1 GCA-TGC\n",
      "  Score=4\n",
      "\n",
      "1 G-ATTAC\n",
      "  | || .|\n",
      "1 GCAT-GC\n",
      "  Score=4\n",
      "\n",
      "1 G-ATTAC\n",
      "  | ||. |\n",
      "1 GCATG-C\n",
      "  Score=4\n",
      "\n"
     ]
    }
   ],
   "source": [
    "seq1 = \"GATTACA\"\n",
    "seq2 = \"GCATGCU\"\n",
    "\n",
    "# Global alignment aligns sequences from end to end.\n",
    "\n",
    "# Perform global alignment\n",
    "global_alignments = pairwise2.align.globalxx(seq1, seq2)\n",
    "\n",
    "# Display the alignments\n",
    "print(\"Global Alignments:\")\n",
    "for alignment in global_alignments:\n",
    "    print(format_alignment(*alignment))\n",
    "\n",
    "\n",
    "# Local alignment finds the best matching subsequences.\n",
    "# Perform local alignment\n",
    "local_alignments = pairwise2.align.localxx(seq1, seq2)\n",
    "\n",
    "# Display the alignments\n",
    "print(\"\\nLocal Alignments:\")\n",
    "for alignment in local_alignments:\n",
    "    print(format_alignment(*alignment))\n"
   ]
  },
  {
   "cell_type": "markdown",
   "metadata": {},
   "source": [
    "- Global Alignment Use Case: Comparing entire genomes or long sequences where end-to-end alignment is necessary.\n",
    "- Local Alignment Use Case: Identifying conserved regions or motifs within proteins or genes."
   ]
  },
  {
   "cell_type": "markdown",
   "metadata": {},
   "source": []
  },
  {
   "cell_type": "code",
   "execution_count": null,
   "metadata": {},
   "outputs": [],
   "source": []
  }
 ],
 "metadata": {
  "kernelspec": {
   "display_name": ".venv",
   "language": "python",
   "name": "python3"
  },
  "language_info": {
   "codemirror_mode": {
    "name": "ipython",
    "version": 3
   },
   "file_extension": ".py",
   "mimetype": "text/x-python",
   "name": "python",
   "nbconvert_exporter": "python",
   "pygments_lexer": "ipython3",
   "version": "3.12.3"
  }
 },
 "nbformat": 4,
 "nbformat_minor": 2
}
