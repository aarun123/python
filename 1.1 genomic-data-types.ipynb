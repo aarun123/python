{
 "cells": [
  {
   "cell_type": "markdown",
   "metadata": {},
   "source": [
    "Overview of Genomic Data Types (DNA, RNA, Proteins)\n",
    "\n",
    "## DNA (Deoxyribonucleic Acid)\n",
    "\n",
    "* DNA is the molecule that carries genetic information in living organisms and many viruses.\n",
    "* It consists of two strands that coil around each other to form a double helix.\n",
    "* The strands are composed of simpler molecules called nucleotides, each containing a sugar, a phosphate group, and a nitrogenous base (adenine, thymine, cytosine, guanine)."
   ]
  },
  {
   "cell_type": "markdown",
   "metadata": {},
   "source": [
    "\n",
    "#### 1. Basic Operations on DNA Sequence\n",
    "\n",
    "\n",
    "Given the DNA sequence \"AGTCTGACGTCGATCGAATTCGCGATCGTACG\", perform the following tasks:\n",
    "\n",
    "Print the given DNA sequence.\n",
    "Calculate and print the complementary sequence.\n",
    "Calculate and print the reverse complementary sequence.\n",
    "Calculate and print the GC content of the DNA sequence."
   ]
  },
  {
   "cell_type": "code",
   "execution_count": 13,
   "metadata": {},
   "outputs": [
    {
     "name": "stdout",
     "output_type": "stream",
     "text": [
      "DNA Sequence: AGTCTGACGTCGATCGAATTCGCGATCGTACG\n",
      "Complementary Sequence: TCAGACTGCAGCTAGCTTAAGCGCTAGCATGC\n",
      "Reverse Complementary Sequence: CGTACGATCGCGAATTCGATCGACGTCAGACT\n",
      "GC Content (%): (53.125, 45.45454545454545, 45.45454545454545, 70.0)\n"
     ]
    }
   ],
   "source": [
    "from Bio.Seq import Seq\n",
    "from Bio.SeqUtils import GC123\n",
    "\n",
    "# Given DNA sequence\n",
    "dna_seq = Seq(\"AGTCTGACGTCGATCGAATTCGCGATCGTACG\")\n",
    "\n",
    "# 1. Print the given DNA sequence\n",
    "print(\"DNA Sequence:\", dna_seq)\n",
    "\n",
    "# 2. Calculate and print the complementary sequence\n",
    "comp_seq = dna_seq.complement()\n",
    "print(\"Complementary Sequence:\", comp_seq)\n",
    "\n",
    "# 3. Calculate and print the reverse complementary sequence\n",
    "rev_comp_seq = dna_seq.reverse_complement()\n",
    "print(\"Reverse Complementary Sequence:\", rev_comp_seq)\n",
    "\n",
    "# 4. Calculate and print the GC content\n",
    "gc_content = GC123(dna_seq)\n",
    "print(\"GC Content (%):\", gc_content)\n"
   ]
  },
  {
   "cell_type": "markdown",
   "metadata": {},
   "source": [
    "#### Transcription and Translation\n",
    " \n",
    "\n",
    "Given the DNA sequence \"ATGGCCATTGTAATGGGCCGCTGAAAGGGTGCCCGATAG\", perform the following tasks:\n",
    "\n",
    "Transcribe the DNA sequence into RNA.\n",
    "Translate the RNA sequence into a protein sequence.\n",
    "Identify and print the start and stop codons in the RNA sequence.\n",
    "Calculate the molecular weight of the translated protein."
   ]
  },
  {
   "cell_type": "code",
   "execution_count": 18,
   "metadata": {},
   "outputs": [
    {
     "name": "stdout",
     "output_type": "stream",
     "text": [
      "RNA Sequence: AUGGCCAUUGUAAUGGGCCGCUG\n",
      "Protein Sequence: MAIVMGR\n",
      "Start Codon Position: 0\n",
      "Stop Codon (UAA) Position: 10\n",
      "Molecular Weight of the Protein: 777.0107999999999\n"
     ]
    }
   ],
   "source": [
    "from Bio.Seq import Seq\n",
    "from Bio.SeqUtils import molecular_weight\n",
    "\n",
    "\n",
    "\n",
    "# Given DNA sequence\n",
    "dna_seq = Seq(\"ATGGCCATTGTAATGGGCCGCTG\")\n",
    "# 1. Transcribe the DNA sequence into RNA\n",
    "rna_seq = dna_seq.transcribe()\n",
    "print(\"RNA Sequence:\", rna_seq)\n",
    "\n",
    "# 2. Translate the RNA sequence into a protein sequence\n",
    "protein_seq = rna_seq.translate()\n",
    "print(\"Protein Sequence:\", protein_seq)\n",
    "\n",
    "# 3. Identify and print the start and stop codons in the RNA sequence\n",
    "start_codon = \"AUG\"\n",
    "stop_codons = [\"UAA\", \"UAG\", \"UGA\"]\n",
    "\n",
    "start_pos = rna_seq.find(start_codon)\n",
    "print(\"Start Codon Position:\", start_pos)\n",
    "\n",
    "for stop_codon in stop_codons:\n",
    "    stop_pos = rna_seq.find(stop_codon)\n",
    "    if stop_pos != -1:\n",
    "        print(f\"Stop Codon ({stop_codon}) Position:\", stop_pos)\n",
    "\n",
    "# 4. Calculate the molecular weight of the translated protein\n",
    "mw = molecular_weight(protein_seq, seq_type='protein')\n",
    "print(\"Molecular Weight of the Protein:\", mw)\n"
   ]
  },
  {
   "cell_type": "markdown",
   "metadata": {},
   "source": [
    "### Reading and Writing DNA Sequences\n",
    " \n",
    "Perform the following tasks:\n",
    "\n",
    "* Read a DNA sequence from the provided FASTA file example.fasta.\n",
    "* Print the sequence ID and the DNA sequence.\n",
    "* Write the reverse complementary sequence to a new FASTA file reverse_complement.fasta."
   ]
  },
  {
   "cell_type": "code",
   "execution_count": 20,
   "metadata": {},
   "outputs": [
    {
     "name": "stdout",
     "output_type": "stream",
     "text": [
      "Sequence ID: 4CS4_1|Chain\n",
      "DNA Sequence: MPALTKSQTDRLEVLLNPKDEISLNSGKPFRELESELLSRRKKDLQQIYAEERENYLGKLEREITRFFVDRGFLEIKSPILIPLEYIERMGIDNDTELSKQIFRVDKNFCLRPMLAPNLANYLRKLDRALPDPIKIFEIGPCYRKESDGKEHLEEFTMLNFCQMGSGCTRENLESIITDFLNHLGIDFKIVGDSCMVFGDTLDVMHGDLELSSAVVGPIPLDREWGIDKPWIGAGFGLERLLKVKHDFKNIKRAARSESYYNGISTNLHHHHHH\n"
     ]
    },
    {
     "data": {
      "text/plain": [
       "1"
      ]
     },
     "execution_count": 20,
     "metadata": {},
     "output_type": "execute_result"
    }
   ],
   "source": [
    "from Bio import SeqIO\n",
    "from Bio.SeqRecord import SeqRecord\n",
    "from Bio.Seq import Seq\n",
    "\n",
    "# 1. Read a DNA sequence from the provided FASTA file\n",
    "record = SeqIO.read(\"./data/rcsb_pdb_4CS4.fasta\", \"fasta\")\n",
    "\n",
    "# 2. Print the sequence ID and the DNA sequence\n",
    "print(\"Sequence ID:\", record.id)\n",
    "print(\"DNA Sequence:\", record.seq)\n",
    "\n",
    "# 3. Write the reverse complementary sequence to a new FASTA file\n",
    "rev_comp_seq = record.seq.reverse_complement()\n",
    "seq_record = SeqRecord(rev_comp_seq, id=record.id, description=\"Reverse Complementary Sequence\")\n",
    "SeqIO.write(seq_record, \"reverse_complement.fasta\", \"fasta\")\n"
   ]
  },
  {
   "cell_type": "markdown",
   "metadata": {},
   "source": [
    "## Proteins\n",
    "\n",
    "\n",
    "#### Basic Protein Sequence Manipulation\n",
    "* Task: Create a protein sequence \"MTEYKLVVVGAGGVGKSALTIQLIQNHFVDEYDPTIEDSYRKQVVIDGETCLLDILDTAG\" using Biopython. Print the sequence, its length, and the count of each amino acid in the sequence."
   ]
  },
  {
   "cell_type": "code",
   "execution_count": 1,
   "metadata": {},
   "outputs": [
    {
     "name": "stdout",
     "output_type": "stream",
     "text": [
      "Protein Sequence: MTEYKLVVVGAGGVGKSALTIQLIQNHFVDEYDPTIEDSYRKQVVIDGETCLLDILDTAG\n",
      "Length of the Sequence: 60\n",
      "Amino Acid Counts: {'S': 2, 'N': 1, 'K': 3, 'C': 1, 'F': 1, 'R': 1, 'L': 6, 'V': 7, 'T': 5, 'P': 1, 'Y': 3, 'E': 4, 'Q': 3, 'M': 1, 'G': 6, 'D': 6, 'I': 5, 'A': 3, 'H': 1}\n"
     ]
    }
   ],
   "source": [
    "from Bio.Seq import Seq\n",
    "\n",
    "# Create a protein sequence\n",
    "protein_seq = Seq(\"MTEYKLVVVGAGGVGKSALTIQLIQNHFVDEYDPTIEDSYRKQVVIDGETCLLDILDTAG\")\n",
    "\n",
    "# Print the sequence\n",
    "print(\"Protein Sequence:\", protein_seq)\n",
    "\n",
    "# Print the length of the sequence\n",
    "print(\"Length of the Sequence:\", len(protein_seq))\n",
    "\n",
    "# Print the count of each amino acid\n",
    "amino_acid_counts = {aa: protein_seq.count(aa) for aa in set(protein_seq)}\n",
    "print(\"Amino Acid Counts:\", amino_acid_counts)\n"
   ]
  },
  {
   "cell_type": "markdown",
   "metadata": {},
   "source": [
    "#### Molecular Weight Calculation\n",
    "* Task: Using the sequence from Question 1, calculate and print the molecular weight of the protein."
   ]
  },
  {
   "cell_type": "code",
   "execution_count": 2,
   "metadata": {},
   "outputs": [
    {
     "name": "stdout",
     "output_type": "stream",
     "text": [
      "Molecular Weight of the Protein: 6543.3415\n"
     ]
    }
   ],
   "source": [
    "from Bio.SeqUtils import molecular_weight\n",
    "\n",
    "# Calculate the molecular weight of the protein\n",
    "mw = molecular_weight(protein_seq, seq_type='protein')\n",
    "print(\"Molecular Weight of the Protein:\", mw)\n"
   ]
  },
  {
   "cell_type": "markdown",
   "metadata": {},
   "source": [
    "#### Hydrophobicity Calculation\n",
    "* Task: Using the sequence from Question 1, calculate and print the Grand Average of Hydropathy (GRAVY) score for the protein."
   ]
  },
  {
   "cell_type": "code",
   "execution_count": 3,
   "metadata": {},
   "outputs": [
    {
     "name": "stdout",
     "output_type": "stream",
     "text": [
      "Protein Hydrophobicity (GRAVY): 0.09833333333333334\n"
     ]
    }
   ],
   "source": [
    "from Bio.SeqUtils.ProtParam import ProteinAnalysis\n",
    "\n",
    "# Analyze the protein sequence\n",
    "analysed_protein = ProteinAnalysis(str(protein_seq))\n",
    "\n",
    "# Calculate the hydrophobicity (GRAVY)\n",
    "hydrophobicity = analysed_protein.gravy()\n",
    "print(\"Protein Hydrophobicity (GRAVY):\", hydrophobicity)\n"
   ]
  },
  {
   "cell_type": "markdown",
   "metadata": {},
   "source": [
    "#### Secondary Structure Prediction\n",
    "* Task: Write a function that predicts the secondary structure (Helix, Sheet, or Coil) of a given protein sequence. For simplicity, use a dictionary to assign secondary structures to amino acids and print the predicted structure for each residue in the sequence from Question 1."
   ]
  },
  {
   "cell_type": "code",
   "execution_count": 4,
   "metadata": {},
   "outputs": [
    {
     "name": "stdout",
     "output_type": "stream",
     "text": [
      "Predicted Secondary Structure: ['Helix', 'Coil', 'Coil', 'Sheet', 'Coil', 'Sheet', 'Sheet', 'Sheet', 'Sheet', 'Coil', 'Helix', 'Coil', 'Coil', 'Sheet', 'Coil', 'Coil', 'Coil', 'Helix', 'Sheet', 'Coil', 'Helix', 'Coil', 'Sheet', 'Helix', 'Coil', 'Coil', 'Coil', 'Sheet', 'Sheet', 'Coil', 'Coil', 'Sheet', 'Coil', 'Coil', 'Coil', 'Helix', 'Coil', 'Coil', 'Coil', 'Sheet', 'Coil', 'Coil', 'Coil', 'Sheet', 'Sheet', 'Helix', 'Coil', 'Coil', 'Coil', 'Coil', 'Coil', 'Sheet', 'Sheet', 'Coil', 'Helix', 'Sheet', 'Coil', 'Coil', 'Helix', 'Coil']\n"
     ]
    }
   ],
   "source": [
    "# Dictionary for secondary structure prediction (example)\n",
    "secondary_structure = {\"A\": \"Helix\", \"V\": \"Sheet\", \"I\": \"Helix\", \"L\": \"Sheet\", \n",
    "                       \"M\": \"Helix\", \"F\": \"Sheet\", \"W\": \"Helix\", \"Y\": \"Sheet\",\n",
    "                       \"S\": \"Coil\", \"T\": \"Coil\", \"N\": \"Coil\", \"Q\": \"Coil\"}\n",
    "\n",
    "# Function to predict secondary structure\n",
    "def predict_secondary_structure(seq):\n",
    "    return [secondary_structure.get(residue, 'Coil') for residue in seq]\n",
    "\n",
    "# Predict and print the secondary structure\n",
    "predicted_structure = predict_secondary_structure(protein_seq)\n",
    "print(\"Predicted Secondary Structure:\", predicted_structure)\n"
   ]
  },
  {
   "cell_type": "markdown",
   "metadata": {},
   "source": [
    "#### Protein Sequence Alignment\n",
    "* Task: Align the sequence from Question 1 with another protein sequence \"MTEYKLVVVGAGDVGGKSAQTIQLIQNHFVDEYDPTIEDSYRKQVVIDGETCLLDILDTAG\" using global alignment. Print the alignment and the alignment score."
   ]
  },
  {
   "cell_type": "code",
   "execution_count": 5,
   "metadata": {},
   "outputs": [
    {
     "name": "stdout",
     "output_type": "stream",
     "text": [
      "MTEYKLVVVGAGG-VG-KSAL-TIQLIQNHFVDEYDPTIEDSYRKQVVIDGETCLLDILDTAG\n",
      "||||||||||| | || |||  |||||||||||||||||||||||||||||||||||||||||\n",
      "MTEYKLVVVGA-GDVGGKSA-QTIQLIQNHFVDEYDPTIEDSYRKQVVIDGETCLLDILDTAG\n",
      "  Score=58\n",
      "\n",
      "MTEYKLVVVGAGG-VG-KSAL-TIQLIQNHFVDEYDPTIEDSYRKQVVIDGETCLLDILDTAG\n",
      "||||||||||||  || |||  |||||||||||||||||||||||||||||||||||||||||\n",
      "MTEYKLVVVGAG-DVGGKSA-QTIQLIQNHFVDEYDPTIEDSYRKQVVIDGETCLLDILDTAG\n",
      "  Score=58\n",
      "\n",
      "MTEYKLVVVGAGGVG-KSAL-TIQLIQNHFVDEYDPTIEDSYRKQVVIDGETCLLDILDTAG\n",
      "||||||||||||.|| |||  |||||||||||||||||||||||||||||||||||||||||\n",
      "MTEYKLVVVGAGDVGGKSA-QTIQLIQNHFVDEYDPTIEDSYRKQVVIDGETCLLDILDTAG\n",
      "  Score=58\n",
      "\n",
      "MTEYKLVVVGAGG-V-GKSAL-TIQLIQNHFVDEYDPTIEDSYRKQVVIDGETCLLDILDTAG\n",
      "||||||||||| | | ||||  |||||||||||||||||||||||||||||||||||||||||\n",
      "MTEYKLVVVGA-GDVGGKSA-QTIQLIQNHFVDEYDPTIEDSYRKQVVIDGETCLLDILDTAG\n",
      "  Score=58\n",
      "\n",
      "MTEYKLVVVGAGG-V-GKSAL-TIQLIQNHFVDEYDPTIEDSYRKQVVIDGETCLLDILDTAG\n",
      "||||||||||||  | ||||  |||||||||||||||||||||||||||||||||||||||||\n",
      "MTEYKLVVVGAG-DVGGKSA-QTIQLIQNHFVDEYDPTIEDSYRKQVVIDGETCLLDILDTAG\n",
      "  Score=58\n",
      "\n",
      "MTEYKLVVVGAGGV-GKSAL-TIQLIQNHFVDEYDPTIEDSYRKQVVIDGETCLLDILDTAG\n",
      "||||||||||||.| ||||  |||||||||||||||||||||||||||||||||||||||||\n",
      "MTEYKLVVVGAGDVGGKSA-QTIQLIQNHFVDEYDPTIEDSYRKQVVIDGETCLLDILDTAG\n",
      "  Score=58\n",
      "\n",
      "MTEYKLVVVGAG--GVGKSAL-TIQLIQNHFVDEYDPTIEDSYRKQVVIDGETCLLDILDTAG\n",
      "||||||||||||  | ||||  |||||||||||||||||||||||||||||||||||||||||\n",
      "MTEYKLVVVGAGDVG-GKSA-QTIQLIQNHFVDEYDPTIEDSYRKQVVIDGETCLLDILDTAG\n",
      "  Score=58\n",
      "\n",
      "MTEYKLVVVGAGG-VG-KSALTIQLIQNHFVDEYDPTIEDSYRKQVVIDGETCLLDILDTAG\n",
      "||||||||||| | || |||.|||||||||||||||||||||||||||||||||||||||||\n",
      "MTEYKLVVVGA-GDVGGKSAQTIQLIQNHFVDEYDPTIEDSYRKQVVIDGETCLLDILDTAG\n",
      "  Score=58\n",
      "\n",
      "MTEYKLVVVGAGG-VG-KSALTIQLIQNHFVDEYDPTIEDSYRKQVVIDGETCLLDILDTAG\n",
      "||||||||||||  || |||.|||||||||||||||||||||||||||||||||||||||||\n",
      "MTEYKLVVVGAG-DVGGKSAQTIQLIQNHFVDEYDPTIEDSYRKQVVIDGETCLLDILDTAG\n",
      "  Score=58\n",
      "\n",
      "MTEYKLVVVGAGGVG-KSALTIQLIQNHFVDEYDPTIEDSYRKQVVIDGETCLLDILDTAG\n",
      "||||||||||||.|| |||.|||||||||||||||||||||||||||||||||||||||||\n",
      "MTEYKLVVVGAGDVGGKSAQTIQLIQNHFVDEYDPTIEDSYRKQVVIDGETCLLDILDTAG\n",
      "  Score=58\n",
      "\n",
      "MTEYKLVVVGAGG-V-GKSALTIQLIQNHFVDEYDPTIEDSYRKQVVIDGETCLLDILDTAG\n",
      "||||||||||| | | ||||.|||||||||||||||||||||||||||||||||||||||||\n",
      "MTEYKLVVVGA-GDVGGKSAQTIQLIQNHFVDEYDPTIEDSYRKQVVIDGETCLLDILDTAG\n",
      "  Score=58\n",
      "\n",
      "MTEYKLVVVGAGG-V-GKSALTIQLIQNHFVDEYDPTIEDSYRKQVVIDGETCLLDILDTAG\n",
      "||||||||||||  | ||||.|||||||||||||||||||||||||||||||||||||||||\n",
      "MTEYKLVVVGAG-DVGGKSAQTIQLIQNHFVDEYDPTIEDSYRKQVVIDGETCLLDILDTAG\n",
      "  Score=58\n",
      "\n",
      "MTEYKLVVVGAGGV-GKSALTIQLIQNHFVDEYDPTIEDSYRKQVVIDGETCLLDILDTAG\n",
      "||||||||||||.| ||||.|||||||||||||||||||||||||||||||||||||||||\n",
      "MTEYKLVVVGAGDVGGKSAQTIQLIQNHFVDEYDPTIEDSYRKQVVIDGETCLLDILDTAG\n",
      "  Score=58\n",
      "\n",
      "MTEYKLVVVGAG--GVGKSALTIQLIQNHFVDEYDPTIEDSYRKQVVIDGETCLLDILDTAG\n",
      "||||||||||||  | ||||.|||||||||||||||||||||||||||||||||||||||||\n",
      "MTEYKLVVVGAGDVG-GKSAQTIQLIQNHFVDEYDPTIEDSYRKQVVIDGETCLLDILDTAG\n",
      "  Score=58\n",
      "\n"
     ]
    },
    {
     "name": "stderr",
     "output_type": "stream",
     "text": [
      "/home/aarun/Documents/projects/bioinformatics/.venv/lib/python3.12/site-packages/Bio/pairwise2.py:278: BiopythonDeprecationWarning: Bio.pairwise2 has been deprecated, and we intend to remove it in a future release of Biopython. As an alternative, please consider using Bio.Align.PairwiseAligner as a replacement, and contact the Biopython developers if you still need the Bio.pairwise2 module.\n",
      "  warnings.warn(\n"
     ]
    }
   ],
   "source": [
    "from Bio import pairwise2\n",
    "from Bio.pairwise2 import format_alignment\n",
    "\n",
    "# Another protein sequence\n",
    "protein_seq_2 = Seq(\"MTEYKLVVVGAGDVGGKSAQTIQLIQNHFVDEYDPTIEDSYRKQVVIDGETCLLDILDTAG\")\n",
    "\n",
    "# Perform global alignment\n",
    "alignments = pairwise2.align.globalxx(protein_seq, protein_seq_2)\n",
    "\n",
    "# Print the alignment and the alignment score\n",
    "for alignment in alignments:\n",
    "    print(format_alignment(*alignment))\n"
   ]
  },
  {
   "cell_type": "markdown",
   "metadata": {},
   "source": [
    "## RNA\n",
    "\n",
    "\n",
    "#### Basic RNA Sequence Manipulation\n",
    "Question 1: Create an RNA sequence and print its length. Convert it to a DNA sequence and print the DNA sequence.\n",
    "\n",
    "\n",
    "\n",
    "\n",
    "\n"
   ]
  },
  {
   "cell_type": "code",
   "execution_count": 6,
   "metadata": {},
   "outputs": [
    {
     "name": "stdout",
     "output_type": "stream",
     "text": [
      "RNA Sequence: AUGCUACGAUCG\n",
      "Length of RNA Sequence: 12\n",
      "Converted DNA Sequence: ATGCTACGATCG\n"
     ]
    }
   ],
   "source": [
    "from Bio.Seq import Seq\n",
    "\n",
    "# Create an RNA sequence\n",
    "rna_seq = Seq(\"AUGCUACGAUCG\")\n",
    "print(\"RNA Sequence:\", rna_seq)\n",
    "\n",
    "# Print the length of the RNA sequence\n",
    "print(\"Length of RNA Sequence:\", len(rna_seq))\n",
    "\n",
    "# Convert RNA to DNA\n",
    "dna_seq = rna_seq.back_transcribe()\n",
    "print(\"Converted DNA Sequence:\", dna_seq)\n"
   ]
  },
  {
   "cell_type": "markdown",
   "metadata": {},
   "source": [
    "Question 2: Transcribe a given DNA sequence into RNA. Print both the original DNA sequence and the transcribed RNA sequence.\n"
   ]
  },
  {
   "cell_type": "code",
   "execution_count": 7,
   "metadata": {},
   "outputs": [
    {
     "name": "stdout",
     "output_type": "stream",
     "text": [
      "Original DNA Sequence: ATGCTACGATCG\n",
      "Transcribed RNA Sequence: AUGCUACGAUCG\n"
     ]
    }
   ],
   "source": [
    "from Bio.Seq import Seq\n",
    "\n",
    "# Given DNA sequence\n",
    "dna_seq = Seq(\"ATGCTACGATCG\")\n",
    "print(\"Original DNA Sequence:\", dna_seq)\n",
    "\n",
    "# Transcribe DNA to RNA\n",
    "rna_seq = dna_seq.transcribe()\n",
    "print(\"Transcribed RNA Sequence:\", rna_seq)\n"
   ]
  },
  {
   "cell_type": "markdown",
   "metadata": {},
   "source": [
    "Question 3: Translate a given RNA sequence into a protein sequence. Print the RNA sequence and the corresponding protein sequence.\n"
   ]
  },
  {
   "cell_type": "code",
   "execution_count": 8,
   "metadata": {},
   "outputs": [
    {
     "name": "stdout",
     "output_type": "stream",
     "text": [
      "RNA Sequence: AUGCUACGAUCG\n",
      "Protein Sequence: MLRS\n"
     ]
    }
   ],
   "source": [
    "from Bio.Seq import Seq\n",
    "\n",
    "# Given RNA sequence\n",
    "rna_seq = Seq(\"AUGCUACGAUCG\")\n",
    "print(\"RNA Sequence:\", rna_seq)\n",
    "\n",
    "# Translate RNA to Protein\n",
    "protein_seq = rna_seq.translate()\n",
    "print(\"Protein Sequence:\", protein_seq)\n"
   ]
  },
  {
   "cell_type": "markdown",
   "metadata": {},
   "source": [
    "Question 4: Find the positions of start and stop codons in an RNA sequence. Print the positions of the start codon (AUG) and any of the stop codons (UAA, UAG, UGA)."
   ]
  },
  {
   "cell_type": "code",
   "execution_count": 9,
   "metadata": {},
   "outputs": [
    {
     "name": "stdout",
     "output_type": "stream",
     "text": [
      "Start Codon (AUG) Position: 0\n",
      "Stop Codon (UAG) Position: 18\n",
      "Stop Codon (UGA) Position: 13\n"
     ]
    }
   ],
   "source": [
    "from Bio.Seq import Seq\n",
    "\n",
    "# Given RNA sequence\n",
    "rna_seq = Seq(\"AUGCUACGAUCGAUGAAUUAG\")\n",
    "\n",
    "# Find start codon position\n",
    "start_codon = \"AUG\"\n",
    "start_pos = rna_seq.find(start_codon)\n",
    "print(\"Start Codon (AUG) Position:\", start_pos)\n",
    "\n",
    "# Find stop codon positions\n",
    "stop_codons = [\"UAA\", \"UAG\", \"UGA\"]\n",
    "for stop_codon in stop_codons:\n",
    "    stop_pos = rna_seq.find(stop_codon)\n",
    "    if stop_pos != -1:\n",
    "        print(f\"Stop Codon ({stop_codon}) Position:\", stop_pos)\n"
   ]
  },
  {
   "cell_type": "markdown",
   "metadata": {},
   "source": [
    "Question 5: Calculate and print the GC content of a given RNA sequence. The GC content is the percentage of guanine (G) and cytosine (C) bases in the sequence."
   ]
  },
  {
   "cell_type": "code",
   "execution_count": 11,
   "metadata": {},
   "outputs": [
    {
     "name": "stdout",
     "output_type": "stream",
     "text": [
      "GC Content (%): (66.66666666666667, 66.66666666666667, 100.0, 50.0)\n"
     ]
    }
   ],
   "source": [
    "from Bio.SeqUtils import GC123\n",
    "from Bio.Seq import Seq\n",
    "\n",
    "# Given RNA sequence\n",
    "rna_seq = Seq(\"AUGCUACGAUCG\")\n",
    "\n",
    "# Calculate GC content\n",
    "gc_content = GC123(rna_seq)\n",
    "print(\"GC Content (%):\", gc_content)\n"
   ]
  },
  {
   "cell_type": "code",
   "execution_count": null,
   "metadata": {},
   "outputs": [],
   "source": []
  }
 ],
 "metadata": {
  "kernelspec": {
   "display_name": ".venv",
   "language": "python",
   "name": "python3"
  },
  "language_info": {
   "codemirror_mode": {
    "name": "ipython",
    "version": 3
   },
   "file_extension": ".py",
   "mimetype": "text/x-python",
   "name": "python",
   "nbconvert_exporter": "python",
   "pygments_lexer": "ipython3",
   "version": "3.12.3"
  }
 },
 "nbformat": 4,
 "nbformat_minor": 2
}
